{
 "cells": [
  {
   "cell_type": "code",
   "execution_count": 11,
   "metadata": {},
   "outputs": [],
   "source": [
    "# Import libraries\n",
    "import matplotlib.pyplot as plt \n",
    "import pandas as pd\n",
    "import numpy as np\n",
    "\n",
    "# Read imu data and set dataset\n",
    "imu_data1 = pd.read_csv('imu.csv')\n",
    "dataset = pd.DataFrame(imu_data1, columns=imu_data.columns)\n",
    "\n",
    "# Set lists\n",
    "smooth = [] \n",
    "bumpy = []\n",
    "bump = []\n",
    "smoothy = []\n",
    "\n",
    "az = dataset.values[:, 0] \n",
    "\n",
    "'''\n",
    "if az[:] > 10.2 or az[0] < 9.3:\n",
    "    bump.append(az)\n",
    "else:\n",
    "    smooth.append(az)\n",
    "        \n",
    "print(smooth)\n",
    "'''\n",
    "\n",
    "for i in range(340):\n",
    "    if az[i] < 9.3 or az[i] > 10.2:\n",
    "        bump.append(az[i])\n",
    "    else:\n",
    "        smooth.append(az[i])\n",
    "\n",
    "for i in range(len(bump)):\n",
    "    for j in range(len(dataset)):\n",
    "        if bump[i] == dataset.values[j, 0]:\n",
    "            bumpy.append(dataset.values[j, 1])\n",
    "\n",
    "for i in range(len(smooth)):\n",
    "    for j in range(len(dataset)):\n",
    "        if smooth[i] == dataset.values[j, 0]:\n",
    "            smoothy.append(dataset.values[j, 1])"
   ]
  },
  {
   "cell_type": "code",
   "execution_count": null,
   "metadata": {},
   "outputs": [],
   "source": []
  }
 ],
 "metadata": {
  "kernelspec": {
   "display_name": "Ray",
   "language": "python",
   "name": "ray"
  },
  "language_info": {
   "codemirror_mode": {
    "name": "ipython",
    "version": 3
   },
   "file_extension": ".py",
   "mimetype": "text/x-python",
   "name": "python",
   "nbconvert_exporter": "python",
   "pygments_lexer": "ipython3",
   "version": "3.7.3"
  }
 },
 "nbformat": 4,
 "nbformat_minor": 2
}
