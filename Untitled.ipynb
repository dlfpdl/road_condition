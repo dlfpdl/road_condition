{
 "cells": [
  {
   "cell_type": "code",
   "execution_count": 3,
   "metadata": {},
   "outputs": [],
   "source": [
    "from skfuzzy import control as ctrl \n",
    "import matplotlib.pyplot as plt\n",
    "from scipy import signal \n",
    "import skfuzzy as fuzz\n",
    "import pandas as pd\n",
    "import numpy as np"
   ]
  },
  {
   "cell_type": "code",
   "execution_count": 6,
   "metadata": {},
   "outputs": [],
   "source": [
    "#New antesedent and consequent objects hold universe variable and membership\n",
    "# function\n",
    "# Stiffness of the spring\n",
    "Ks = ctrl.Antecedent(np.arange(0, 201), 'stiffness of the spring')\n",
    "# Damping coefficient of the shock absorber \n",
    "Cs = ctrl.Antecedent(np.arange(0, 5), 'damping coefficient')\n",
    "# z axis threshold \n",
    "Tz = ctrl.Consequent(np.arange(0.5, 2), 'z threshold')\n",
    "\n",
    "# Custom membership function \n",
    "names_Ks = ['nb', 'ns', 'zo', 'ps', 'pb']\n",
    "names_Cs = ['nb', 'ns', 'ps', 'pb']\n",
    "names_Tz = ['nb', 'zo', 'pb']\n",
    "\n",
    "Ks.automf(names=names_Ks)\n",
    "Cs.automf(names=names_Cs)\n",
    "Tz.automf(names=names_Tz)"
   ]
  },
  {
   "cell_type": "code",
   "execution_count": 8,
   "metadata": {},
   "outputs": [],
   "source": [
    "rule0 = ctrl.Rule(antecedent=((Ks['nb'] & Cs['ns']) | \n",
    "                              (Ks['ns'] & Cs['nb']) |\n",
    "                              (Ks['ns'] & Cs['ps']) |\n",
    "                              (Ks['ns'] & Cs['pb']) |\n",
    "                              (Ks['zo'] & Cs['nb']) |\n",
    "                              (Ks['zo'] & Cs['ns']) | \n",
    "                              (Ks['zo'] & Cs['ps']) | \n",
    "                              (Ks['ps'] & Cs['nb']) |\n",
    "                              (Ks['ps'] & Cs['ns']) |\n",
    "                              (Ks['pb'] & Cs['nb']) |\n",
    "                              (Ks['pb'] & Cs['ns']) |\n",
    "                              (Ks['pb'] & Cs['ps'])),\n",
    "                 consequent=Tz['nb'], label='rule nb')\n",
    "\n",
    "rule1 = ctrl.Rule(antecedent=((Ks['nb'] & Cs['nb']) |\n",
    "                              (Ks['nb'] & Cs['ps']) |\n",
    "                              (Ks['nb'] & Cs['pb']) |\n",
    "                              (Ks['zo'] & Cs['pb']) |\n",
    "                              (Ks['ps'] & Cs['ps']) |\n",
    "                              (Ks['ps'] & Cs['pb']) |\n",
    "                              (Ks['pb'] & Cs['pb'])), \n",
    "                  consequent=Tz['zo'], label='rule zo')\n",
    "\n",
    "rule2 = ctrl.Rule(antecedent=((Ks['ns'] & Cs['ns'])),\n",
    "                 consequent=Tz['pb'], label='rule pb')"
   ]
  },
  {
   "cell_type": "code",
   "execution_count": 10,
   "metadata": {},
   "outputs": [],
   "source": [
    "system = ctrl.ControlSystem(rules=[rule0, rule1, rule2])\n",
    "\n",
    "# For the input shape, idk what to do\n",
    "sim = ctrl.ControlSystemSimulation(system, flush_after_run= 8 * 8 + 1)"
   ]
  },
  {
   "cell_type": "code",
   "execution_count": null,
   "metadata": {},
   "outputs": [],
   "source": [
    "# We can simulate at higher resolution with full accuracy\n",
    "upsampled0 = np.arange(0, 201)\n",
    "unsampled1 = np.arange(0, 5)\n",
    "x = np.meshgrid(upsampled0, upsampled)\n",
    "y = np.meshgrid(unsampled, unsampled) \n",
    "z = np.zeros_like(x)\n",
    "\n",
    "# Loop through the system 21*21 times to collect the control surface\n",
    "for i in range(10):\n",
    "    for j in range(10):\n",
    "        sim.input['Ks'] = x[i, j]\n",
    "        sim.input['Cs'] = y[i, j]\n",
    "        sim.compute()\n",
    "        z[i, j] = sim.output['Tz']\n",
    "\n",
    "# Plot the result in pretty 3D with alpha blending\n",
    "import matplotlib.pyplot as plt\n",
    "from mpl_toolkits.mplot3d import Axes3D  # Required for 3D plotting\n",
    "\n",
    "fig = plt.figure(figsize=(8, 8))\n",
    "ax = fig.add_subplot(111, projection='3d')\n",
    "\n",
    "surf = ax.plot_surface(x, y, z, rstride=1, cstride=1, cmap='viridis',\n",
    "                       linewidth=0.4, antialiased=True)\n",
    "\n",
    "cset = ax.contourf(x, y, z, zdir='z', offset=-2.5, cmap='viridis', alpha=0.5)\n",
    "cset = ax.contourf(x, y, z, zdir='x', offset=3, cmap='viridis', alpha=0.5)\n",
    "cset = ax.contourf(x, y, z, zdir='y', offset=3, cmap='viridis', alpha=0.5)\n",
    "\n",
    "ax.view_init(30, 200)"
   ]
  }
 ],
 "metadata": {
  "kernelspec": {
   "display_name": "Ray",
   "language": "python",
   "name": "ray"
  },
  "language_info": {
   "codemirror_mode": {
    "name": "ipython",
    "version": 3
   },
   "file_extension": ".py",
   "mimetype": "text/x-python",
   "name": "python",
   "nbconvert_exporter": "python",
   "pygments_lexer": "ipython3",
   "version": "3.7.3"
  }
 },
 "nbformat": 4,
 "nbformat_minor": 2
}
